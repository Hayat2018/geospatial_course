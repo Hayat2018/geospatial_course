{
 "cells": [
  {
   "cell_type": "markdown",
   "id": "4b7a72fa-193a-49ab-a24b-1a99fd7c98d9",
   "metadata": {
    "panel-layout": {
     "height": 44.07500076293945,
     "visible": true,
     "width": 100
    }
   },
   "source": [
    "### Exercise 1: NumPy Array Operations and Geospatial Coordinates"
   ]
  },
  {
   "cell_type": "markdown",
   "id": "28eb77bb-440a-4e34-9465-6482f484bbde",
   "metadata": {
    "panel-layout": {
     "height": 189.96250915527344,
     "visible": true,
     "width": 100
    }
   },
   "source": [
    "In this exercise, you will work with NumPy arrays representing geospatial coordinates (latitude and longitude)\n",
    "and perform basic array operations.\n",
    "\n",
    "Create a 2D NumPy array containing the latitude and longitude of the following cities: Tokyo (35.6895, 139.6917), \n",
    "New York (40.7128, -74.0060), London (51.5074, -0.1278), and Paris (48.8566, 2.3522).\n",
    "\n",
    "Convert the latitude and longitude values from degrees to radians using np.radians().\n",
    "\n",
    "Calculate the element-wise difference between Tokyo and the other cities’ latitude and longitude in radians."
   ]
  },
  {
   "cell_type": "code",
   "execution_count": null,
   "id": "c3443a10-d155-4963-80d6-b648d0199e3b",
   "metadata": {},
   "outputs": [],
   "source": [
    "import numpy as np\n",
    "cities = ['Tokyo', 'New York', 'London' , 'Paris']\n",
    "location = [(35.6895, 139.6917),(40.7128, -74.0060),(51.5074, -0.1278),(48.8566, 2.3522)]\n",
    "location_array=np.array(location)\n",
    "\n",
    "np.set_printoptions(precision=10,suppress=True)\n",
    "radian_array = np.radians(location_array)\n",
    "\n",
    "tokyo_radians = radian_array[0]\n",
    "\n",
    "difference_radians = radian_array - tokyo_radians\n",
    "\n",
    "difference_radians\n",
    "    "
   ]
  },
  {
   "cell_type": "markdown",
   "id": "6a5d8491-dc08-4968-b742-a0d536ee8ea3",
   "metadata": {
    "panel-layout": {
     "height": 44.07500076293945,
     "visible": true,
     "width": 100
    }
   },
   "source": [
    "### Exercise 2: Pandas DataFrame Operations with Geospatial Data"
   ]
  },
  {
   "cell_type": "markdown",
   "id": "583abe9e-abdc-4fb9-a7cf-729d4155e353",
   "metadata": {
    "panel-layout": {
     "height": 213.96250915527344,
     "visible": true,
     "width": 100
    }
   },
   "source": [
    "In this exercise, you’ll use Pandas to load and manipulate a dataset containing city population data, and then calculate and visualize statistics.\n",
    "\n",
    "Load the world cities dataset from this URL using Pandas: opengeos/datasets\n",
    "\n",
    "Display the first 5 rows and check for missing values.\n",
    "\n",
    "Filter the dataset to only include cities with a population greater than 1 million.\n",
    "\n",
    "Group the cities by their country and calculate the total population for each country.\n",
    "\n",
    "Sort the cities by population in descending order and display the top 10 cities."
   ]
  },
  {
   "cell_type": "code",
   "execution_count": null,
   "id": "dc6d0b7e-3a90-40dc-a179-6ae69bf8df4d",
   "metadata": {
    "panel-layout": {
     "height": 169.1999969482422,
     "visible": true,
     "width": 100
    }
   },
   "outputs": [],
   "source": [
    "import pandas as pd\n",
    "url = \"https://github.com/opengeos/datasets/releases/download/world/world_cities.csv\"\n",
    "#filepath = \"c:\\\\world_cities.csv\"\n",
    "df=pd.read_csv(url)\n",
    "df.head()"
   ]
  },
  {
   "cell_type": "raw",
   "id": "1dfa9fbf-c25f-4edd-abbc-10111620d189",
   "metadata": {},
   "source": [
    "Filter the dataset to only include cities with a population greater than 1 million."
   ]
  },
  {
   "cell_type": "code",
   "execution_count": null,
   "id": "6419797a-24dc-452b-a382-960db9cb704e",
   "metadata": {
    "panel-layout": {
     "height": 10386,
     "visible": true,
     "width": 100
    }
   },
   "outputs": [],
   "source": [
    "filter_row = df[df.population > 1000000]\n",
    "filter_row"
   ]
  },
  {
   "cell_type": "code",
   "execution_count": null,
   "id": "1e0c0857-0303-4380-a052-03553846549e",
   "metadata": {},
   "outputs": [],
   "source": [
    "#Group the cities by their country and calculate the total population for each country."
   ]
  },
  {
   "cell_type": "code",
   "execution_count": null,
   "id": "cc9470b9-d26c-4866-bacb-a66f961ae407",
   "metadata": {},
   "outputs": [],
   "source": [
    "country_population=df.groupby('country')['population'].sum().reset_index()\n",
    "country_population"
   ]
  },
  {
   "cell_type": "markdown",
   "id": "9831900b-222b-4a1a-b043-94e2211a244c",
   "metadata": {},
   "source": [
    "Sort the cities by population in descending order and display the top 10 cities."
   ]
  },
  {
   "cell_type": "code",
   "execution_count": null,
   "id": "66c6131e-3d64-479a-9ec5-401855457c49",
   "metadata": {},
   "outputs": [],
   "source": [
    "least10 = df.sort_values('population',ascending=False)\n",
    "least10.head(10)"
   ]
  },
  {
   "cell_type": "markdown",
   "id": "fe726611-3ee9-4957-a993-6af6693cddc6",
   "metadata": {},
   "source": [
    "# Exercise 3"
   ]
  },
  {
   "cell_type": "raw",
   "id": "ccb382f8-503c-4131-a686-a4681b9d6363",
   "metadata": {},
   "source": [
    "Exercise 3: Creating and Manipulating GeoDataFrames with GeoPandas\n",
    "This exercise focuses on creating and manipulating GeoDataFrames, performing spatial operations, and visualizing the data.\n",
    "\n",
    "Load the New York City building dataset from the GeoJSON file using GeoPandas: opengeos/datasets\n",
    "\n",
    "Create a plot of the building footprints and color them based on the building height (use the height_MS column).\n",
    "\n",
    "Create an interactive map of the building footprints and color them based on the building height (use the height_MS column).\n",
    "\n",
    "Calculate the average building height (use the height_MS column).\n",
    "\n",
    "Select buildings with a height greater than the average height.\n",
    "\n",
    "Save the GeoDataFrame to a new GeoJSON file."
   ]
  },
  {
   "cell_type": "code",
   "execution_count": null,
   "id": "9d5bfe91-a3ae-4136-8978-cba7c97e6aef",
   "metadata": {},
   "outputs": [],
   "source": [
    "import geopandas as gpd\n",
    "\n",
    "url = \"https://github.com/opengeos/datasets/releases/download/places/nyc_buildings.geojson\"\n",
    "\n",
    "gdf=gpd.read_file(url)\n",
    "gdf.head()"
   ]
  },
  {
   "cell_type": "code",
   "execution_count": null,
   "id": "8c5fb913-3b70-42cc-8acc-40115ead76ee",
   "metadata": {},
   "outputs": [],
   "source": [
    "# Create a plot of the building footprints and color them based on the building height (use the height_MS column)\n",
    "gdf.plot(\"height_MS\", legend = True , figsize = (10,6),cmap='Dark2' )"
   ]
  },
  {
   "cell_type": "code",
   "execution_count": null,
   "id": "181caff2-96f9-41d9-bdbc-bd096442d215",
   "metadata": {},
   "outputs": [],
   "source": [
    "# Create an interactive map of the building footprints and color them based on the building height (use the height_MS column)\n",
    "gdf.explore(\"height_MS\", legend = True)"
   ]
  },
  {
   "cell_type": "code",
   "execution_count": null,
   "id": "f58b6ccc-3561-4841-a53f-a75cf98b9cde",
   "metadata": {},
   "outputs": [],
   "source": [
    "# Calculate the average building height (use the height_MS column)\n",
    "\n",
    "average_height=gdf[\"height_MS\"].mean()\n",
    "\n",
    "average_height"
   ]
  },
  {
   "cell_type": "code",
   "execution_count": null,
   "id": "496f8c8a-5c61-4ba6-81f5-d980852136be",
   "metadata": {},
   "outputs": [],
   "source": [
    "#Select buildings with a height greater than the average height.\n",
    "selected_building = gdf[gdf[\"height_MS\"] > average_height ]\n",
    "selected_building"
   ]
  },
  {
   "cell_type": "code",
   "execution_count": null,
   "id": "5906d63f-ae4f-443f-a78f-a2e867548581",
   "metadata": {},
   "outputs": [],
   "source": [
    "#plotting the buildings having height greater than average haveage_height\n",
    "selected_building.plot(\"height_MS\", legend = True, figsize = (10,6))"
   ]
  },
  {
   "cell_type": "code",
   "execution_count": null,
   "id": "b08334b0",
   "metadata": {},
   "outputs": [],
   "source": [
    "#Save the GeoDataFrame to a new GeoJSON file.\n",
    "# write the geodata frame selected_buildings to file\n",
    "selected_building.to_file(\"./selectedbuildings.GeoJSON\")"
   ]
  },
  {
   "cell_type": "code",
   "execution_count": null,
   "id": "70147651",
   "metadata": {},
   "outputs": [],
   "source": [
    "#Testing the selected building geojson file\n",
    "gfile = gpd.read_file(\"./selectedbuildings.GeoJSON\")\n",
    "gfile.head()"
   ]
  },
  {
   "cell_type": "markdown",
   "id": "be87554a",
   "metadata": {},
   "source": [
    "# Exercise 4: Combining NumPy, Pandas, and GeoPandas\n",
    "This exercise requires you to combine the power of NumPy, Pandas, and GeoPandas to analyze and visualize spatial data.\n",
    "\n",
    "Use Pandas to load the world cities dataset from this URL: opengeos/datasets\n",
    "\n",
    "Filter the dataset to include only cities with latitude values between -40 and 60 (i.e., cities located in the Northern Hemisphere or near the equator).\n",
    "\n",
    "Create a GeoDataFrame from the filtered dataset by converting the latitude and longitude into geometries.\n",
    "\n",
    "Reproject the GeoDataFrame to the Mercator projection (EPSG:3857).\n",
    "\n",
    "Calculate the distance (in meters) between each city and the city of Paris.\n",
    "\n",
    "Plot the cities on a world map, coloring the points by their distance from Paris."
   ]
  },
  {
   "cell_type": "code",
   "execution_count": 5,
   "id": "937204a4",
   "metadata": {},
   "outputs": [],
   "source": [
    "#Use Pandas to load the world cities dataset from this URL: opengeos/datasets\n",
    "import pandas as pd\n",
    "newurl = 'https://github.com/opengeos/datasets/releases/download/world/world_cities.csv'\n",
    "pdf=pd.read_csv(newurl)"
   ]
  },
  {
   "cell_type": "code",
   "execution_count": 6,
   "id": "d8ef5aa8",
   "metadata": {},
   "outputs": [
    {
     "data": {
      "application/vnd.microsoft.datawrangler.viewer.v0+json": {
       "columns": [
        {
         "name": "index",
         "rawType": "int64",
         "type": "integer"
        },
        {
         "name": "id",
         "rawType": "int64",
         "type": "integer"
        },
        {
         "name": "name",
         "rawType": "object",
         "type": "string"
        },
        {
         "name": "country",
         "rawType": "object",
         "type": "string"
        },
        {
         "name": "latitude",
         "rawType": "float64",
         "type": "float"
        },
        {
         "name": "longitude",
         "rawType": "float64",
         "type": "float"
        },
        {
         "name": "population",
         "rawType": "int64",
         "type": "integer"
        }
       ],
       "conversionMethod": "pd.DataFrame",
       "ref": "1249c259-ec07-4a3b-a578-32a4af031fbb",
       "rows": [
        [
         "0",
         "1",
         "Bombo",
         "UGA",
         "0.5833",
         "32.5333",
         "75000"
        ],
        [
         "1",
         "2",
         "Fort Portal",
         "UGA",
         "0.671",
         "30.275",
         "42670"
        ],
        [
         "2",
         "3",
         "Potenza",
         "ITA",
         "40.642",
         "15.799",
         "69060"
        ],
        [
         "3",
         "4",
         "Campobasso",
         "ITA",
         "41.563",
         "14.656",
         "50762"
        ],
        [
         "4",
         "5",
         "Aosta",
         "ITA",
         "45.737",
         "7.315",
         "34062"
        ]
       ],
       "shape": {
        "columns": 6,
        "rows": 5
       }
      },
      "text/html": [
       "<div>\n",
       "<style scoped>\n",
       "    .dataframe tbody tr th:only-of-type {\n",
       "        vertical-align: middle;\n",
       "    }\n",
       "\n",
       "    .dataframe tbody tr th {\n",
       "        vertical-align: top;\n",
       "    }\n",
       "\n",
       "    .dataframe thead th {\n",
       "        text-align: right;\n",
       "    }\n",
       "</style>\n",
       "<table border=\"1\" class=\"dataframe\">\n",
       "  <thead>\n",
       "    <tr style=\"text-align: right;\">\n",
       "      <th></th>\n",
       "      <th>id</th>\n",
       "      <th>name</th>\n",
       "      <th>country</th>\n",
       "      <th>latitude</th>\n",
       "      <th>longitude</th>\n",
       "      <th>population</th>\n",
       "    </tr>\n",
       "  </thead>\n",
       "  <tbody>\n",
       "    <tr>\n",
       "      <th>0</th>\n",
       "      <td>1</td>\n",
       "      <td>Bombo</td>\n",
       "      <td>UGA</td>\n",
       "      <td>0.5833</td>\n",
       "      <td>32.5333</td>\n",
       "      <td>75000</td>\n",
       "    </tr>\n",
       "    <tr>\n",
       "      <th>1</th>\n",
       "      <td>2</td>\n",
       "      <td>Fort Portal</td>\n",
       "      <td>UGA</td>\n",
       "      <td>0.6710</td>\n",
       "      <td>30.2750</td>\n",
       "      <td>42670</td>\n",
       "    </tr>\n",
       "    <tr>\n",
       "      <th>2</th>\n",
       "      <td>3</td>\n",
       "      <td>Potenza</td>\n",
       "      <td>ITA</td>\n",
       "      <td>40.6420</td>\n",
       "      <td>15.7990</td>\n",
       "      <td>69060</td>\n",
       "    </tr>\n",
       "    <tr>\n",
       "      <th>3</th>\n",
       "      <td>4</td>\n",
       "      <td>Campobasso</td>\n",
       "      <td>ITA</td>\n",
       "      <td>41.5630</td>\n",
       "      <td>14.6560</td>\n",
       "      <td>50762</td>\n",
       "    </tr>\n",
       "    <tr>\n",
       "      <th>4</th>\n",
       "      <td>5</td>\n",
       "      <td>Aosta</td>\n",
       "      <td>ITA</td>\n",
       "      <td>45.7370</td>\n",
       "      <td>7.3150</td>\n",
       "      <td>34062</td>\n",
       "    </tr>\n",
       "  </tbody>\n",
       "</table>\n",
       "</div>"
      ],
      "text/plain": [
       "   id         name country  latitude  longitude  population\n",
       "0   1        Bombo     UGA    0.5833    32.5333       75000\n",
       "1   2  Fort Portal     UGA    0.6710    30.2750       42670\n",
       "2   3      Potenza     ITA   40.6420    15.7990       69060\n",
       "3   4   Campobasso     ITA   41.5630    14.6560       50762\n",
       "4   5        Aosta     ITA   45.7370     7.3150       34062"
      ]
     },
     "execution_count": 6,
     "metadata": {},
     "output_type": "execute_result"
    }
   ],
   "source": [
    "#Filter the dataset to include only cities with latitude values between -40 and 60 (i.e., cities located in the Northern Hemisphere or near the equator).\n",
    "north_cities = pdf[(pdf['latitude'] >= -40) & (pdf['latitude'] <= 60)]\n",
    "north_cities.head()"
   ]
  },
  {
   "cell_type": "code",
   "execution_count": 7,
   "id": "7e6f025a",
   "metadata": {},
   "outputs": [
    {
     "data": {
      "text/html": [
       "<div>\n",
       "<style scoped>\n",
       "    .dataframe tbody tr th:only-of-type {\n",
       "        vertical-align: middle;\n",
       "    }\n",
       "\n",
       "    .dataframe tbody tr th {\n",
       "        vertical-align: top;\n",
       "    }\n",
       "\n",
       "    .dataframe thead th {\n",
       "        text-align: right;\n",
       "    }\n",
       "</style>\n",
       "<table border=\"1\" class=\"dataframe\">\n",
       "  <thead>\n",
       "    <tr style=\"text-align: right;\">\n",
       "      <th></th>\n",
       "      <th>id</th>\n",
       "      <th>name</th>\n",
       "      <th>country</th>\n",
       "      <th>latitude</th>\n",
       "      <th>longitude</th>\n",
       "      <th>population</th>\n",
       "      <th>geometry</th>\n",
       "    </tr>\n",
       "  </thead>\n",
       "  <tbody>\n",
       "    <tr>\n",
       "      <th>0</th>\n",
       "      <td>1</td>\n",
       "      <td>Bombo</td>\n",
       "      <td>UGA</td>\n",
       "      <td>0.5833</td>\n",
       "      <td>32.5333</td>\n",
       "      <td>75000</td>\n",
       "      <td>POINT (32.5333 0.5833)</td>\n",
       "    </tr>\n",
       "    <tr>\n",
       "      <th>1</th>\n",
       "      <td>2</td>\n",
       "      <td>Fort Portal</td>\n",
       "      <td>UGA</td>\n",
       "      <td>0.6710</td>\n",
       "      <td>30.2750</td>\n",
       "      <td>42670</td>\n",
       "      <td>POINT (30.275 0.671)</td>\n",
       "    </tr>\n",
       "    <tr>\n",
       "      <th>2</th>\n",
       "      <td>3</td>\n",
       "      <td>Potenza</td>\n",
       "      <td>ITA</td>\n",
       "      <td>40.6420</td>\n",
       "      <td>15.7990</td>\n",
       "      <td>69060</td>\n",
       "      <td>POINT (15.799 40.642)</td>\n",
       "    </tr>\n",
       "    <tr>\n",
       "      <th>3</th>\n",
       "      <td>4</td>\n",
       "      <td>Campobasso</td>\n",
       "      <td>ITA</td>\n",
       "      <td>41.5630</td>\n",
       "      <td>14.6560</td>\n",
       "      <td>50762</td>\n",
       "      <td>POINT (14.656 41.563)</td>\n",
       "    </tr>\n",
       "    <tr>\n",
       "      <th>4</th>\n",
       "      <td>5</td>\n",
       "      <td>Aosta</td>\n",
       "      <td>ITA</td>\n",
       "      <td>45.7370</td>\n",
       "      <td>7.3150</td>\n",
       "      <td>34062</td>\n",
       "      <td>POINT (7.315 45.737)</td>\n",
       "    </tr>\n",
       "  </tbody>\n",
       "</table>\n",
       "</div>"
      ],
      "text/plain": [
       "   id         name country  latitude  longitude  population  \\\n",
       "0   1        Bombo     UGA    0.5833    32.5333       75000   \n",
       "1   2  Fort Portal     UGA    0.6710    30.2750       42670   \n",
       "2   3      Potenza     ITA   40.6420    15.7990       69060   \n",
       "3   4   Campobasso     ITA   41.5630    14.6560       50762   \n",
       "4   5        Aosta     ITA   45.7370     7.3150       34062   \n",
       "\n",
       "                 geometry  \n",
       "0  POINT (32.5333 0.5833)  \n",
       "1    POINT (30.275 0.671)  \n",
       "2   POINT (15.799 40.642)  \n",
       "3   POINT (14.656 41.563)  \n",
       "4    POINT (7.315 45.737)  "
      ]
     },
     "execution_count": 7,
     "metadata": {},
     "output_type": "execute_result"
    }
   ],
   "source": [
    "#Create a GeoDataFrame from the filtered dataset by converting the latitude and longitude into geometries.\n",
    "import geopandas as gpd\n",
    "city_geometry=gpd.GeoDataFrame(north_cities, geometry=gpd.points_from_xy(north_cities.longitude, north_cities.latitude))  \n",
    "city_geometry.head()\n"
   ]
  },
  {
   "cell_type": "code",
   "execution_count": 8,
   "id": "b30e5e59",
   "metadata": {},
   "outputs": [
    {
     "data": {
      "text/html": [
       "<div>\n",
       "<style scoped>\n",
       "    .dataframe tbody tr th:only-of-type {\n",
       "        vertical-align: middle;\n",
       "    }\n",
       "\n",
       "    .dataframe tbody tr th {\n",
       "        vertical-align: top;\n",
       "    }\n",
       "\n",
       "    .dataframe thead th {\n",
       "        text-align: right;\n",
       "    }\n",
       "</style>\n",
       "<table border=\"1\" class=\"dataframe\">\n",
       "  <thead>\n",
       "    <tr style=\"text-align: right;\">\n",
       "      <th></th>\n",
       "      <th>id</th>\n",
       "      <th>name</th>\n",
       "      <th>country</th>\n",
       "      <th>latitude</th>\n",
       "      <th>longitude</th>\n",
       "      <th>population</th>\n",
       "      <th>geometry</th>\n",
       "    </tr>\n",
       "  </thead>\n",
       "  <tbody>\n",
       "    <tr>\n",
       "      <th>0</th>\n",
       "      <td>1</td>\n",
       "      <td>Bombo</td>\n",
       "      <td>UGA</td>\n",
       "      <td>0.5833</td>\n",
       "      <td>32.5333</td>\n",
       "      <td>75000</td>\n",
       "      <td>POINT (32.533 0.583)</td>\n",
       "    </tr>\n",
       "    <tr>\n",
       "      <th>1</th>\n",
       "      <td>2</td>\n",
       "      <td>Fort Portal</td>\n",
       "      <td>UGA</td>\n",
       "      <td>0.6710</td>\n",
       "      <td>30.2750</td>\n",
       "      <td>42670</td>\n",
       "      <td>POINT (30.275 0.671)</td>\n",
       "    </tr>\n",
       "    <tr>\n",
       "      <th>2</th>\n",
       "      <td>3</td>\n",
       "      <td>Potenza</td>\n",
       "      <td>ITA</td>\n",
       "      <td>40.6420</td>\n",
       "      <td>15.7990</td>\n",
       "      <td>69060</td>\n",
       "      <td>POINT (15.799 40.642)</td>\n",
       "    </tr>\n",
       "    <tr>\n",
       "      <th>3</th>\n",
       "      <td>4</td>\n",
       "      <td>Campobasso</td>\n",
       "      <td>ITA</td>\n",
       "      <td>41.5630</td>\n",
       "      <td>14.6560</td>\n",
       "      <td>50762</td>\n",
       "      <td>POINT (14.656 41.563)</td>\n",
       "    </tr>\n",
       "    <tr>\n",
       "      <th>4</th>\n",
       "      <td>5</td>\n",
       "      <td>Aosta</td>\n",
       "      <td>ITA</td>\n",
       "      <td>45.7370</td>\n",
       "      <td>7.3150</td>\n",
       "      <td>34062</td>\n",
       "      <td>POINT (7.315 45.737)</td>\n",
       "    </tr>\n",
       "  </tbody>\n",
       "</table>\n",
       "</div>"
      ],
      "text/plain": [
       "   id         name country  latitude  longitude  population  \\\n",
       "0   1        Bombo     UGA    0.5833    32.5333       75000   \n",
       "1   2  Fort Portal     UGA    0.6710    30.2750       42670   \n",
       "2   3      Potenza     ITA   40.6420    15.7990       69060   \n",
       "3   4   Campobasso     ITA   41.5630    14.6560       50762   \n",
       "4   5        Aosta     ITA   45.7370     7.3150       34062   \n",
       "\n",
       "                geometry  \n",
       "0   POINT (32.533 0.583)  \n",
       "1   POINT (30.275 0.671)  \n",
       "2  POINT (15.799 40.642)  \n",
       "3  POINT (14.656 41.563)  \n",
       "4   POINT (7.315 45.737)  "
      ]
     },
     "execution_count": 8,
     "metadata": {},
     "output_type": "execute_result"
    }
   ],
   "source": [
    "#Reproject the GeoDataFrame to the Mercator projection (EPSG:3857)\n",
    "city_geometry=city_geometry.set_crs(epsg=3857)\n",
    "city_geometry.head()"
   ]
  },
  {
   "cell_type": "code",
   "execution_count": 9,
   "id": "59ec90e7",
   "metadata": {},
   "outputs": [],
   "source": [
    "#Calculate the distance (in meters) between each city and the city of Paris.\n",
    "import math\n",
    "def calculate_distance(lat1,lon1,lat2,lon2):\n",
    "     R = 6371  # Earth's radius in km\n",
    "     lat1, lon1, lat2, lon2 = map(math.radians, [lat1, lon1, lat2, lon2])  # Convert to radians\n",
    "     dlat = lat2 - lat1\n",
    "     dlon = lon2 - lon1\n",
    "     a = math.sin(dlat / 2) ** 2 + math.cos(lat1) * math.cos(lat2) * math.sin(dlon / 2) ** 2\n",
    "     c = 2 * math.atan2(math.sqrt(a), math.sqrt(1 - a))\n",
    "     distance = R * c\n",
    "     return distance\n",
    "\n"
   ]
  },
  {
   "cell_type": "code",
   "execution_count": null,
   "id": "20aa0dd9",
   "metadata": {},
   "outputs": [
    {
     "name": "stdout",
     "output_type": "stream",
     "text": [
      "48.86669 2.33334\n"
     ]
    },
    {
     "data": {
      "text/html": [
       "<div>\n",
       "<style scoped>\n",
       "    .dataframe tbody tr th:only-of-type {\n",
       "        vertical-align: middle;\n",
       "    }\n",
       "\n",
       "    .dataframe tbody tr th {\n",
       "        vertical-align: top;\n",
       "    }\n",
       "\n",
       "    .dataframe thead th {\n",
       "        text-align: right;\n",
       "    }\n",
       "</style>\n",
       "<table border=\"1\" class=\"dataframe\">\n",
       "  <thead>\n",
       "    <tr style=\"text-align: right;\">\n",
       "      <th></th>\n",
       "      <th>id</th>\n",
       "      <th>name</th>\n",
       "      <th>country</th>\n",
       "      <th>latitude</th>\n",
       "      <th>longitude</th>\n",
       "      <th>population</th>\n",
       "      <th>geometry</th>\n",
       "      <th>distance_to_paris</th>\n",
       "      <th>centroid</th>\n",
       "    </tr>\n",
       "  </thead>\n",
       "  <tbody>\n",
       "    <tr>\n",
       "      <th>0</th>\n",
       "      <td>1</td>\n",
       "      <td>Bombo</td>\n",
       "      <td>UGA</td>\n",
       "      <td>0.5833</td>\n",
       "      <td>32.5333</td>\n",
       "      <td>75000</td>\n",
       "      <td>POINT (32.533 0.583)</td>\n",
       "      <td>6095.528475</td>\n",
       "      <td>POINT (32.533 0.583)</td>\n",
       "    </tr>\n",
       "    <tr>\n",
       "      <th>1</th>\n",
       "      <td>2</td>\n",
       "      <td>Fort Portal</td>\n",
       "      <td>UGA</td>\n",
       "      <td>0.6710</td>\n",
       "      <td>30.2750</td>\n",
       "      <td>42670</td>\n",
       "      <td>POINT (30.275 0.671)</td>\n",
       "      <td>5987.782916</td>\n",
       "      <td>POINT (30.275 0.671)</td>\n",
       "    </tr>\n",
       "    <tr>\n",
       "      <th>2</th>\n",
       "      <td>3</td>\n",
       "      <td>Potenza</td>\n",
       "      <td>ITA</td>\n",
       "      <td>40.6420</td>\n",
       "      <td>15.7990</td>\n",
       "      <td>69060</td>\n",
       "      <td>POINT (15.799 40.642)</td>\n",
       "      <td>1398.827238</td>\n",
       "      <td>POINT (15.799 40.642)</td>\n",
       "    </tr>\n",
       "    <tr>\n",
       "      <th>3</th>\n",
       "      <td>4</td>\n",
       "      <td>Campobasso</td>\n",
       "      <td>ITA</td>\n",
       "      <td>41.5630</td>\n",
       "      <td>14.6560</td>\n",
       "      <td>50762</td>\n",
       "      <td>POINT (14.656 41.563)</td>\n",
       "      <td>1258.709245</td>\n",
       "      <td>POINT (14.656 41.563)</td>\n",
       "    </tr>\n",
       "    <tr>\n",
       "      <th>4</th>\n",
       "      <td>5</td>\n",
       "      <td>Aosta</td>\n",
       "      <td>ITA</td>\n",
       "      <td>45.7370</td>\n",
       "      <td>7.3150</td>\n",
       "      <td>34062</td>\n",
       "      <td>POINT (7.315 45.737)</td>\n",
       "      <td>511.868347</td>\n",
       "      <td>POINT (7.315 45.737)</td>\n",
       "    </tr>\n",
       "  </tbody>\n",
       "</table>\n",
       "</div>"
      ],
      "text/plain": [
       "   id         name country  latitude  longitude  population  \\\n",
       "0   1        Bombo     UGA    0.5833    32.5333       75000   \n",
       "1   2  Fort Portal     UGA    0.6710    30.2750       42670   \n",
       "2   3      Potenza     ITA   40.6420    15.7990       69060   \n",
       "3   4   Campobasso     ITA   41.5630    14.6560       50762   \n",
       "4   5        Aosta     ITA   45.7370     7.3150       34062   \n",
       "\n",
       "                geometry  distance_to_paris               centroid  \n",
       "0   POINT (32.533 0.583)        6095.528475   POINT (32.533 0.583)  \n",
       "1   POINT (30.275 0.671)        5987.782916   POINT (30.275 0.671)  \n",
       "2  POINT (15.799 40.642)        1398.827238  POINT (15.799 40.642)  \n",
       "3  POINT (14.656 41.563)        1258.709245  POINT (14.656 41.563)  \n",
       "4   POINT (7.315 45.737)         511.868347   POINT (7.315 45.737)  "
      ]
     },
     "execution_count": 19,
     "metadata": {},
     "output_type": "execute_result"
    }
   ],
   "source": [
    "paris_location = city_geometry[city_geometry['name'] == 'Paris']\n",
    "paris_lat = paris_location['latitude'].values[0]\n",
    "paris_lon = paris_location['longitude'].values[0]   \n",
    "print(paris_lat, paris_lon)\n",
    "city_geometry['distance_to_paris'] = city_geometry.apply(lambda row: calculate_distance(row['latitude'], row['longitude'], paris_lat, paris_lon), axis=1)\n",
    "city_geometry['centroid'] = city_geometry.centroid\n",
    "city_geometry.head()\n"
   ]
  },
  {
   "cell_type": "code",
   "execution_count": 27,
   "id": "6e5e12de",
   "metadata": {},
   "outputs": [
    {
     "data": {
      "image/png": "[encoded data removed]",
      "text/plain": [
       "<Figure size 1000x600 with 2 Axes>"
      ]
     },
     "metadata": {},
     "output_type": "display_data"
    }
   ],
   "source": [
    "\n",
    "#Plot the cities on a world map, coloring the points by their distance from Paris.\n",
    "import matplotlib.pyplot as plt\n",
    "cities_map=city_geometry.plot(column='distance_to_paris', cmap='viridis', legend=True, \n",
    "                             figsize=(10, 6),\n",
    "                            legend_kwds = \n",
    "                            {\n",
    "                            'orientation': 'horizontal'        \n",
    "                            }\n",
    "                   )\n",
    "cities_map.set_title(\"Distance of Cities from Paris\")\n",
    "plt.show()"
   ]
  },
  {
   "cell_type": "code",
   "execution_count": null,
   "id": "4fcc55ed",
   "metadata": {},
   "outputs": [],
   "source": []
  }
 ],
 "metadata": {
  "kernelspec": {
   "display_name": "base",
   "language": "python",
   "name": "python3"
  },
  "language_info": {
   "codemirror_mode": {
    "name": "ipython",
    "version": 3
   },
   "file_extension": ".py",
   "mimetype": "text/x-python",
   "name": "python",
   "nbconvert_exporter": "python",
   "pygments_lexer": "ipython3",
   "version": "3.13.2"
  },
  "panel-cell-order": [
   "4b7a72fa-193a-49ab-a24b-1a99fd7c98d9",
   "28eb77bb-440a-4e34-9465-6482f484bbde",
   "6a5d8491-dc08-4968-b742-a0d536ee8ea3",
   "583abe9e-abdc-4fb9-a7cf-729d4155e353",
   "dc6d0b7e-3a90-40dc-a179-6ae69bf8df4d",
   "952e0ee4-8348-4530-b4e9-9563a48eafca",
   "6419797a-24dc-452b-a382-960db9cb704e"
  ],
  "widgets": {
   "application/vnd.jupyter.widget-state+json": {
    "state": {},
    "version_major": 2,
    "version_minor": 0
   }
  }
 },
 "nbformat": 4,
 "nbformat_minor": 5
}
