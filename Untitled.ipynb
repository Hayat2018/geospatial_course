{
 "cells": [
  {
   "cell_type": "code",
   "execution_count": null,
   "id": "b1cd89ce-343e-44cf-b1a8-c20bb2d90365",
   "metadata": {},
   "outputs": [],
   "source": []
  }
 ],
 "metadata": {
  "kernelspec": {
   "display_name": "",
   "name": ""
  },
  "language_info": {
   "name": ""
  }
 },
 "nbformat": 4,
 "nbformat_minor": 5
}
